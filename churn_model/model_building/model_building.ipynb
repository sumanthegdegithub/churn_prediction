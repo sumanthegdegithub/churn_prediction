{
 "cells": [
  {
   "cell_type": "code",
   "execution_count": 1,
   "metadata": {},
   "outputs": [],
   "source": [
    "import numpy as np\n",
    "import pandas as pd\n",
    "from core import PACKAGE_ROOT\n",
    "from pathlib import Path\n",
    "import warnings\n",
    "import cmd\n",
    "import textwrap\n",
    "warnings.filterwarnings('ignore')\n",
    "from sklearn.model_selection import train_test_split\n",
    "from sklearn.metrics import mean_squared_error, r2_score\n",
    "from sklearn.pipeline import Pipeline\n",
    "from sklearn.preprocessing import MinMaxScaler, OneHotEncoder\n",
    "from sklearn.ensemble import RandomForestRegressor\n",
    "from sklearn.compose import ColumnTransformer\n",
    "import mlflow\n",
    "from sklearn.metrics import accuracy_score\n",
    "from xgboost import XGBClassifier\n",
    "import optuna"
   ]
  },
  {
   "cell_type": "code",
   "execution_count": 2,
   "metadata": {},
   "outputs": [],
   "source": [
    "DATASET_DIR = PACKAGE_ROOT / 'data'\n",
    "unused_fields = ['id', 'CustomerId', 'Surname', 'EstimatedSalary']\n",
    "input_columns = ['CreditScore', 'Geography', 'Gender', 'Age', 'Tenure', 'Balance',\n",
    "       'NumOfProducts', 'HasCrCard', 'IsActiveMember']"
   ]
  },
  {
   "cell_type": "code",
   "execution_count": 3,
   "metadata": {},
   "outputs": [],
   "source": [
    "def load_dataset(file_name: str) -> pd.DataFrame:\n",
    "    dataframe = pd.read_csv(Path(f\"{DATASET_DIR}/{file_name}\"))\n",
    "    return dataframe\n",
    "\n",
    "def pre_pipeline_preparation(data_frame: pd.DataFrame) -> pd.DataFrame:\n",
    "    # Drop unnecessary fields\n",
    "    for field in unused_fields:\n",
    "        if field in data_frame.columns:\n",
    "            data_frame.drop(labels = field, axis=1, inplace=True)    \n",
    "\n",
    "    return data_frame"
   ]
  },
  {
   "cell_type": "code",
   "execution_count": 4,
   "metadata": {},
   "outputs": [],
   "source": [
    "#reading data files\n",
    "train_data = load_dataset('train.csv')\n",
    "test_data = load_dataset('test.csv')"
   ]
  },
  {
   "cell_type": "code",
   "execution_count": 5,
   "metadata": {},
   "outputs": [],
   "source": [
    "# Drop unnecessary fields\n",
    "train_data = pre_pipeline_preparation(train_data)\n",
    "test_data = pre_pipeline_preparation(test_data)"
   ]
  },
  {
   "cell_type": "code",
   "execution_count": 6,
   "metadata": {},
   "outputs": [
    {
     "data": {
      "text/plain": [
       "Index(['CreditScore', 'Geography', 'Gender', 'Age', 'Tenure', 'Balance',\n",
       "       'NumOfProducts', 'HasCrCard', 'IsActiveMember', 'Exited'],\n",
       "      dtype='object')"
      ]
     },
     "execution_count": 6,
     "metadata": {},
     "output_type": "execute_result"
    }
   ],
   "source": [
    "train_data.columns"
   ]
  },
  {
   "cell_type": "code",
   "execution_count": 7,
   "metadata": {},
   "outputs": [],
   "source": [
    "preprocesser = ColumnTransformer([\n",
    "    ('onehotencoder', OneHotEncoder(), ['Geography', 'Gender']),\n",
    "    ('minmaxscaler', MinMaxScaler(), ['CreditScore', 'Tenure', 'NumOfProducts'])\n",
    "])"
   ]
  },
  {
   "cell_type": "code",
   "execution_count": 19,
   "metadata": {},
   "outputs": [],
   "source": [
    "from typing import Iterable\n",
    "\n",
    "\n",
    "from numpy import ndarray\n",
    "from pandas import DataFrame\n",
    "\n",
    "\n",
    "class model_pipeline():\n",
    "    \n",
    "    def __init__(self, params: dict):\n",
    "\n",
    "        if not isinstance(params, dict):\n",
    "            raise ValueError(\"variable name should be a dictionary\")\n",
    "\n",
    "        self.params = params\n",
    "        \n",
    "        preprocesser = ColumnTransformer([\n",
    "            ('onehotencoder', OneHotEncoder(), ['Geography', 'Gender']),\n",
    "            ('minmaxscaler', MinMaxScaler(), ['CreditScore', 'Tenure', 'NumOfProducts'])\n",
    "        ])\n",
    "        \n",
    "        self.pipe = Pipeline([\n",
    "            ('preprocessor', preprocesser),\n",
    "            ('model_rf', XGBClassifier(**self.params))\n",
    "        ])\n",
    "        \n",
    "        \n",
    "    def fit(self, X: pd.DataFrame, y: pd.Series):\n",
    "        # we need the fit statement to accomodate the sklearn pipeline \n",
    "        \n",
    "        self.pipe.fit(X, y)\n",
    "\n",
    "    \n",
    "    def predict(self, X: pd.DataFrame):\n",
    "        \n",
    "        return self.pipe.predict(X)\n",
    "    "
   ]
  },
  {
   "cell_type": "code",
   "execution_count": 20,
   "metadata": {},
   "outputs": [],
   "source": [
    "pipeline = model_pipeline({'max_depth': 2, 'learning_rate': 0.025672460402941775})"
   ]
  },
  {
   "cell_type": "code",
   "execution_count": 21,
   "metadata": {},
   "outputs": [],
   "source": [
    "pipeline.fit(train_data[['CreditScore', 'Geography', 'Gender', 'Age', 'Tenure', 'Balance',\n",
    "       'NumOfProducts', 'HasCrCard', 'IsActiveMember']], train_data['Exited'])"
   ]
  },
  {
   "cell_type": "code",
   "execution_count": 78,
   "metadata": {},
   "outputs": [
    {
     "data": {
      "text/plain": [
       "array([0.06361574, 0.37088072, 0.06308033, ..., 0.03222362, 0.37221097,\n",
       "       0.39555481])"
      ]
     },
     "execution_count": 78,
     "metadata": {},
     "output_type": "execute_result"
    }
   ],
   "source": [
    "pipe.predict(test_data[input_columns])"
   ]
  },
  {
   "cell_type": "code",
   "execution_count": 79,
   "metadata": {},
   "outputs": [],
   "source": [
    "X_train, X_test, y_train, y_test = train_test_split(train_data[input_columns], train_data.Exited, test_size=0.25, random_state=1)"
   ]
  },
  {
   "cell_type": "code",
   "execution_count": 80,
   "metadata": {},
   "outputs": [
    {
     "data": {
      "text/html": [
       "<pre style=\"white-space:pre;overflow-x:auto;line-height:normal;font-family:Menlo,'DejaVu Sans Mono',consolas,'Courier New',monospace\">Initialized MLflow to track repo <span style=\"color: #008000; text-decoration-color: #008000\">\"sumanthegdegithub/churn_prediction\"</span>\n",
       "</pre>\n"
      ],
      "text/plain": [
       "Initialized MLflow to track repo \u001b[32m\"sumanthegdegithub/churn_prediction\"\u001b[0m\n"
      ]
     },
     "metadata": {},
     "output_type": "display_data"
    },
    {
     "data": {
      "text/html": [
       "<pre style=\"white-space:pre;overflow-x:auto;line-height:normal;font-family:Menlo,'DejaVu Sans Mono',consolas,'Courier New',monospace\">Repository sumanthegdegithub/churn_prediction initialized!\n",
       "</pre>\n"
      ],
      "text/plain": [
       "Repository sumanthegdegithub/churn_prediction initialized!\n"
      ]
     },
     "metadata": {},
     "output_type": "display_data"
    }
   ],
   "source": [
    "import dagshub\n",
    "dagshub.init(repo_owner='sumanthegdegithub', repo_name='churn_prediction', mlflow=True)"
   ]
  },
  {
   "cell_type": "code",
   "execution_count": 81,
   "metadata": {},
   "outputs": [],
   "source": [
    "def get_or_create_experiment(experiment_name):\n",
    "\n",
    "    if experiment := mlflow.get_experiment_by_name(experiment_name):\n",
    "        return experiment.experiment_id\n",
    "    else:\n",
    "        return mlflow.create_experiment(experiment_name)\n"
   ]
  },
  {
   "cell_type": "code",
   "execution_count": 89,
   "metadata": {},
   "outputs": [],
   "source": [
    "experiment_id = get_or_create_experiment(\"Churn Prediction\")"
   ]
  },
  {
   "cell_type": "code",
   "execution_count": 90,
   "metadata": {},
   "outputs": [
    {
     "data": {
      "text/plain": [
       "<Experiment: artifact_location='mlflow-artifacts:/346482be85e9401b895c1a2e0c4c92ac', creation_time=1714403965430, experiment_id='4', last_update_time=1714403965430, lifecycle_stage='active', name='Churn Prediction', tags={}>"
      ]
     },
     "execution_count": 90,
     "metadata": {},
     "output_type": "execute_result"
    }
   ],
   "source": [
    "mlflow.set_experiment(experiment_id=experiment_id)"
   ]
  },
  {
   "cell_type": "code",
   "execution_count": 91,
   "metadata": {},
   "outputs": [],
   "source": [
    "def objective(trial):\n",
    "    with mlflow.start_run(nested=True):\n",
    "        params = {\n",
    "            'max_depth': trial.suggest_int('max_depth', 1, 9),\n",
    "            'learning_rate': trial.suggest_loguniform('learning_rate', 0.01, 1.0),\n",
    "            'n_estimators': trial.suggest_int('n_estimators', 50, 500),\n",
    "            'min_child_weight': trial.suggest_int('min_child_weight', 1, 10),\n",
    "            'gamma': trial.suggest_loguniform('gamma', 1e-8, 1.0),\n",
    "            'subsample': trial.suggest_loguniform('subsample', 0.01, 1.0),\n",
    "            'colsample_bytree': trial.suggest_loguniform('colsample_bytree', 0.01, 1.0),\n",
    "            'reg_alpha': trial.suggest_loguniform('reg_alpha', 1e-8, 1.0),\n",
    "            'reg_lambda': trial.suggest_loguniform('reg_lambda', 1e-8, 1.0),\n",
    "            'eval_metric': 'mlogloss',\n",
    "            'use_label_encoder': False\n",
    "        }\n",
    "\n",
    "        # Fit the model\n",
    "        pipe = Pipeline([\n",
    "            ('preprocessor', preprocesser),\n",
    "            ('model_rf', XGBClassifier(**params))\n",
    "        ])\n",
    "        pipe.fit(X_train, y_train)\n",
    "\n",
    "        # Make predictions\n",
    "        y_pred = pipe.predict(X_test)\n",
    "\n",
    "        # Evaluate predictions\n",
    "        accuracy = accuracy_score(y_test, y_pred)\n",
    "        \n",
    "        mlflow.log_params(params)\n",
    "        mlflow.log_metric(\"accuracy\", accuracy)\n",
    "        \n",
    "        \n",
    "        return accuracy\n"
   ]
  },
  {
   "cell_type": "code",
   "execution_count": 92,
   "metadata": {},
   "outputs": [],
   "source": [
    "run_name = 'first_run'"
   ]
  },
  {
   "cell_type": "code",
   "execution_count": 93,
   "metadata": {},
   "outputs": [
    {
     "name": "stderr",
     "output_type": "stream",
     "text": [
      "[I 2024-04-29 20:49:37,358] A new study created in memory with name: no-name-e09e7c7d-a944-41f7-b1b0-d8460aa9f44e\n",
      "[I 2024-04-29 20:49:44,343] Trial 0 finished with value: 0.8050122397537507 and parameters: {'max_depth': 2, 'learning_rate': 0.025672460402941775, 'n_estimators': 122, 'min_child_weight': 6, 'gamma': 3.74922751058321e-08, 'subsample': 0.3946833392174229, 'colsample_bytree': 0.3296859526498477, 'reg_alpha': 5.657517854505451e-08, 'reg_lambda': 0.2973204844211783}. Best is trial 0 with value: 0.8050122397537507.\n",
      "[I 2024-04-29 20:49:50,392] Trial 1 finished with value: 0.8140284543978283 and parameters: {'max_depth': 2, 'learning_rate': 0.4876605248509711, 'n_estimators': 94, 'min_child_weight': 7, 'gamma': 0.38884809613858357, 'subsample': 0.3506847539345285, 'colsample_bytree': 0.28750564278930263, 'reg_alpha': 0.2606003744731174, 'reg_lambda': 1.8506758047733113e-08}. Best is trial 1 with value: 0.8140284543978283.\n",
      "[I 2024-04-29 20:49:55,827] Trial 2 finished with value: 0.8139072687171284 and parameters: {'max_depth': 6, 'learning_rate': 0.22741566888797413, 'n_estimators': 258, 'min_child_weight': 5, 'gamma': 0.10571230281846046, 'subsample': 0.0907076051273114, 'colsample_bytree': 0.04982112062583026, 'reg_alpha': 2.7081155327342873e-05, 'reg_lambda': 0.0025303547348744697}. Best is trial 1 with value: 0.8140284543978283.\n",
      "[I 2024-04-29 20:50:04,819] Trial 3 finished with value: 0.8138830315809884 and parameters: {'max_depth': 2, 'learning_rate': 0.04483483261951447, 'n_estimators': 256, 'min_child_weight': 3, 'gamma': 0.0019438235125955208, 'subsample': 0.7848349083609053, 'colsample_bytree': 0.9796504312595276, 'reg_alpha': 1.3903029787864082e-07, 'reg_lambda': 1.0341518746483983e-06}. Best is trial 1 with value: 0.8140284543978283.\n",
      "[I 2024-04-29 20:50:15,660] Trial 4 finished with value: 0.8138103201725684 and parameters: {'max_depth': 3, 'learning_rate': 0.07363281097338463, 'n_estimators': 371, 'min_child_weight': 9, 'gamma': 4.847306037321155e-08, 'subsample': 0.26397942257021006, 'colsample_bytree': 0.09792057308394003, 'reg_alpha': 1.0838710531030811e-08, 'reg_lambda': 0.001730021782933499}. Best is trial 1 with value: 0.8140284543978283.\n",
      "[I 2024-04-29 20:50:23,254] Trial 5 finished with value: 0.8144889599844882 and parameters: {'max_depth': 5, 'learning_rate': 0.10236052104699417, 'n_estimators': 142, 'min_child_weight': 10, 'gamma': 3.817983931500462e-07, 'subsample': 0.28009316264949163, 'colsample_bytree': 0.5264692568624821, 'reg_alpha': 4.200274175162476e-08, 'reg_lambda': 0.10510978094793363}. Best is trial 5 with value: 0.8144889599844882.\n",
      "[I 2024-04-29 20:50:33,495] Trial 6 finished with value: 0.811677452192249 and parameters: {'max_depth': 7, 'learning_rate': 0.26480803880344816, 'n_estimators': 182, 'min_child_weight': 8, 'gamma': 2.664865314956694e-05, 'subsample': 0.03211049930566519, 'colsample_bytree': 0.019154389360312083, 'reg_alpha': 1.3314263655013284e-06, 'reg_lambda': 0.7325177754007837}. Best is trial 5 with value: 0.8144889599844882.\n",
      "[I 2024-04-29 20:50:40,247] Trial 7 finished with value: 0.8125742262294288 and parameters: {'max_depth': 4, 'learning_rate': 0.030252673947781004, 'n_estimators': 332, 'min_child_weight': 10, 'gamma': 6.483503214516184e-06, 'subsample': 0.11182773565305056, 'colsample_bytree': 0.047233628207123395, 'reg_alpha': 0.0001668550001912541, 'reg_lambda': 9.50177196870538e-05}. Best is trial 5 with value: 0.8144889599844882.\n",
      "[I 2024-04-29 20:50:48,444] Trial 8 finished with value: 0.8129377832715287 and parameters: {'max_depth': 3, 'learning_rate': 0.20357261895797973, 'n_estimators': 196, 'min_child_weight': 2, 'gamma': 0.7701513542122106, 'subsample': 0.2514493126273104, 'colsample_bytree': 0.8687402703773922, 'reg_alpha': 0.002582020223028301, 'reg_lambda': 9.222442600103663e-07}. Best is trial 5 with value: 0.8144889599844882.\n",
      "[I 2024-04-29 20:50:54,794] Trial 9 finished with value: 0.8136648973557284 and parameters: {'max_depth': 4, 'learning_rate': 0.2066496114071203, 'n_estimators': 245, 'min_child_weight': 3, 'gamma': 0.0003031216564249952, 'subsample': 0.5912061579995084, 'colsample_bytree': 0.12026062030180731, 'reg_alpha': 5.626519702171344e-05, 'reg_lambda': 0.00010522884368681068}. Best is trial 5 with value: 0.8144889599844882.\n",
      "[I 2024-04-29 20:51:03,393] Trial 10 finished with value: 0.7977653360478926 and parameters: {'max_depth': 9, 'learning_rate': 0.011941286060356871, 'n_estimators': 494, 'min_child_weight': 10, 'gamma': 7.564840211006981e-07, 'subsample': 0.015639061748311745, 'colsample_bytree': 0.3502038224972412, 'reg_alpha': 1.0080723755054917e-06, 'reg_lambda': 0.02526124213461392}. Best is trial 5 with value: 0.8144889599844882.\n",
      "[I 2024-04-29 20:51:09,331] Trial 11 finished with value: 0.8132771031774886 and parameters: {'max_depth': 1, 'learning_rate': 0.9758217164448163, 'n_estimators': 54, 'min_child_weight': 7, 'gamma': 0.004044858754264631, 'subsample': 0.11424789703632383, 'colsample_bytree': 0.3085776342743442, 'reg_alpha': 0.5470047704625376, 'reg_lambda': 2.5894258894096533e-08}. Best is trial 5 with value: 0.8144889599844882.\n",
      "[I 2024-04-29 20:51:15,330] Trial 12 finished with value: 0.8066846021474102 and parameters: {'max_depth': 6, 'learning_rate': 0.7860633436782254, 'n_estimators': 50, 'min_child_weight': 5, 'gamma': 1.860944023515115e-06, 'subsample': 0.20261000247744496, 'colsample_bytree': 0.4760495391329001, 'reg_alpha': 0.4030161458332619, 'reg_lambda': 2.8511353890209866e-08}. Best is trial 5 with value: 0.8144889599844882.\n",
      "[I 2024-04-29 20:51:20,595] Trial 13 finished with value: 0.8138830315809884 and parameters: {'max_depth': 8, 'learning_rate': 0.3796543709059918, 'n_estimators': 124, 'min_child_weight': 8, 'gamma': 0.05453760039960033, 'subsample': 0.9653007341164997, 'colsample_bytree': 0.159132838788027, 'reg_alpha': 0.014097218808000805, 'reg_lambda': 1.5805907057400976e-06}. Best is trial 5 with value: 0.8144889599844882.\n",
      "[I 2024-04-29 20:51:25,918] Trial 14 finished with value: 0.8086962844470298 and parameters: {'max_depth': 1, 'learning_rate': 0.1018844103720399, 'n_estimators': 132, 'min_child_weight': 7, 'gamma': 3.2339358547240104e-07, 'subsample': 0.054501653384054397, 'colsample_bytree': 0.19741027344819767, 'reg_alpha': 0.0014326314499042772, 'reg_lambda': 5.335207884268183e-05}. Best is trial 5 with value: 0.8144889599844882.\n",
      "[I 2024-04-29 20:51:35,345] Trial 15 finished with value: 0.811532029375409 and parameters: {'max_depth': 5, 'learning_rate': 0.5025436094160204, 'n_estimators': 181, 'min_child_weight': 9, 'gamma': 0.00012039915903364176, 'subsample': 0.39156389003091646, 'colsample_bytree': 0.6073224816134749, 'reg_alpha': 0.03323069520617932, 'reg_lambda': 0.017447558868820122}. Best is trial 5 with value: 0.8144889599844882.\n",
      "[I 2024-04-29 20:51:40,671] Trial 16 finished with value: 0.8139315058532683 and parameters: {'max_depth': 5, 'learning_rate': 0.10404147502429639, 'n_estimators': 102, 'min_child_weight': 6, 'gamma': 0.002402840974469788, 'subsample': 0.16554921165304556, 'colsample_bytree': 0.21621205721004583, 'reg_alpha': 4.345652852187063e-06, 'reg_lambda': 1.0290922954985653e-05}. Best is trial 5 with value: 0.8144889599844882.\n",
      "[I 2024-04-29 20:51:49,478] Trial 17 finished with value: 0.7916091034683341 and parameters: {'max_depth': 3, 'learning_rate': 0.010585769324180483, 'n_estimators': 329, 'min_child_weight': 9, 'gamma': 1.4573333551859836e-05, 'subsample': 0.4374366879831934, 'colsample_bytree': 0.010142807760606432, 'reg_alpha': 0.000313321107279872, 'reg_lambda': 0.0008894260344889374}. Best is trial 5 with value: 0.8144889599844882.\n",
      "[I 2024-04-29 20:51:58,078] Trial 18 finished with value: 0.8105140696575293 and parameters: {'max_depth': 7, 'learning_rate': 0.5390986899068718, 'n_estimators': 87, 'min_child_weight': 7, 'gamma': 1.1002566698734654e-08, 'subsample': 0.05947635354716516, 'colsample_bytree': 0.0775854491301473, 'reg_alpha': 0.06493006927656532, 'reg_lambda': 1.3210362876326338e-07}. Best is trial 5 with value: 0.8144889599844882.\n",
      "[I 2024-04-29 20:52:04,629] Trial 19 finished with value: 0.8137860830364284 and parameters: {'max_depth': 4, 'learning_rate': 0.14154476732508423, 'n_estimators': 156, 'min_child_weight': 4, 'gamma': 0.020591649895980356, 'subsample': 0.5839353235832168, 'colsample_bytree': 0.556204574461586, 'reg_alpha': 7.4147842984035105e-06, 'reg_lambda': 0.01990272128477379}. Best is trial 5 with value: 0.8144889599844882.\n",
      "[I 2024-04-29 20:52:10,562] Trial 20 finished with value: 0.8138830315809884 and parameters: {'max_depth': 2, 'learning_rate': 0.05930030534106666, 'n_estimators': 472, 'min_child_weight': 10, 'gamma': 0.9501206083655651, 'subsample': 0.17434649411622669, 'colsample_bytree': 0.23726105270793682, 'reg_alpha': 0.0025635369290635058, 'reg_lambda': 0.23039509713360756}. Best is trial 5 with value: 0.8144889599844882.\n",
      "[I 2024-04-29 20:52:14,963] Trial 21 finished with value: 0.8137860830364284 and parameters: {'max_depth': 5, 'learning_rate': 0.12254700592698611, 'n_estimators': 91, 'min_child_weight': 6, 'gamma': 0.0015737459318429076, 'subsample': 0.18166476834850775, 'colsample_bytree': 0.15885450285296873, 'reg_alpha': 1.8856750497614445e-06, 'reg_lambda': 1.013960884236799e-05}. Best is trial 5 with value: 0.8144889599844882.\n",
      "[I 2024-04-29 20:52:22,446] Trial 22 finished with value: 0.8137376087641485 and parameters: {'max_depth': 6, 'learning_rate': 0.039138813452900184, 'n_estimators': 84, 'min_child_weight': 1, 'gamma': 0.009160551980139158, 'subsample': 0.3255737835620811, 'colsample_bytree': 0.4431442135367747, 'reg_alpha': 1.1575481998038542e-07, 'reg_lambda': 1.5247156246898765e-07}. Best is trial 5 with value: 0.8144889599844882.\n",
      "[I 2024-04-29 20:52:31,046] Trial 23 finished with value: 0.8140042172616884 and parameters: {'max_depth': 5, 'learning_rate': 0.07546692675363717, 'n_estimators': 215, 'min_child_weight': 8, 'gamma': 0.00043989488577481946, 'subsample': 0.14088860259962335, 'colsample_bytree': 0.2418064668460134, 'reg_alpha': 1.3567282126038083e-08, 'reg_lambda': 1.1480116697133565e-05}. Best is trial 5 with value: 0.8144889599844882.\n",
      "[I 2024-04-29 20:52:42,513] Trial 24 finished with value: 0.8092052643059696 and parameters: {'max_depth': 7, 'learning_rate': 0.017116558540138063, 'n_estimators': 209, 'min_child_weight': 8, 'gamma': 0.0003466242843843091, 'subsample': 0.06966640763957131, 'colsample_bytree': 0.28415354100049, 'reg_alpha': 1.2451673342742396e-08, 'reg_lambda': 6.665376406191573e-06}. Best is trial 5 with value: 0.8144889599844882.\n",
      "[I 2024-04-29 20:52:49,481] Trial 25 finished with value: 0.8134952374027485 and parameters: {'max_depth': 5, 'learning_rate': 0.07276502632017437, 'n_estimators': 216, 'min_child_weight': 9, 'gamma': 0.20475596809472413, 'subsample': 0.1439618165227324, 'colsample_bytree': 0.6996604947646892, 'reg_alpha': 3.2185321309105387e-07, 'reg_lambda': 0.00039413623601808903}. Best is trial 5 with value: 0.8144889599844882.\n",
      "[I 2024-04-29 20:52:56,952] Trial 26 finished with value: 0.8128893089992486 and parameters: {'max_depth': 9, 'learning_rate': 0.15421711783441194, 'n_estimators': 153, 'min_child_weight': 8, 'gamma': 2.6632915144646304e-07, 'subsample': 0.2597211639614348, 'colsample_bytree': 0.41191904298070686, 'reg_alpha': 4.189452173074006e-08, 'reg_lambda': 2.072826438985882e-07}. Best is trial 5 with value: 0.8144889599844882.\n",
      "[I 2024-04-29 20:53:02,385] Trial 27 finished with value: 0.8121864320511888 and parameters: {'max_depth': 4, 'learning_rate': 0.3699595824333538, 'n_estimators': 303, 'min_child_weight': 7, 'gamma': 4.685371304464249e-06, 'subsample': 0.04366259217754819, 'colsample_bytree': 0.125285511899738, 'reg_alpha': 3.258332976990702e-07, 'reg_lambda': 0.007499722012310749}. Best is trial 5 with value: 0.8144889599844882.\n",
      "[I 2024-04-29 20:53:09,311] Trial 28 finished with value: 0.8140042172616884 and parameters: {'max_depth': 8, 'learning_rate': 0.06251042389691114, 'n_estimators': 158, 'min_child_weight': 10, 'gamma': 5.544152626671068e-05, 'subsample': 0.5497280639187349, 'colsample_bytree': 0.6904515889989835, 'reg_alpha': 3.381168432437421e-08, 'reg_lambda': 1.5085697647183325e-08}. Best is trial 5 with value: 0.8144889599844882.\n",
      "[I 2024-04-29 20:53:14,263] Trial 29 finished with value: 0.7876584502775152 and parameters: {'max_depth': 2, 'learning_rate': 0.018602165852934203, 'n_estimators': 235, 'min_child_weight': 9, 'gamma': 8.194194981277115e-08, 'subsample': 0.01098357618961793, 'colsample_bytree': 0.07310199047719994, 'reg_alpha': 1.51185637934445e-05, 'reg_lambda': 3.264114054937066e-05}. Best is trial 5 with value: 0.8144889599844882.\n"
     ]
    }
   ],
   "source": [
    "# Initiate the parent run and call the hyperparameter tuning child run logic\n",
    "with mlflow.start_run(experiment_id=experiment_id, run_name=run_name, nested=True):\n",
    "    # Initialize the Optuna study\n",
    "    study = optuna.create_study(direction=\"maximize\")\n",
    "\n",
    "    # Execute the hyperparameter optimization trials.\n",
    "    # Note the addition of the `champion_callback` inclusion to control our logging\n",
    "    study.optimize(objective, n_trials=30)\n",
    "\n",
    "    mlflow.log_params(study.best_params)\n",
    "    mlflow.log_metric(\"best_acc\", study.best_value)\n",
    "\n",
    "    # Log tags\n",
    "    mlflow.set_tags(\n",
    "        tags={\n",
    "            \"project\": \"churn_prediction\",\n",
    "            \"optimizer_engine\": \"optuna\",\n",
    "            \"model_family\": \"xgboost\",\n",
    "            \"feature_set_version\": 1,\n",
    "        }\n",
    "    )\n",
    "\n",
    "    # Log a fit model instance\n",
    "    pipe = Pipeline([\n",
    "            ('preprocessor', preprocesser),\n",
    "            ('model_rf', XGBClassifier(**study.best_params))\n",
    "        ])\n",
    "    pipe.fit(X_train, y_train)\n",
    "\n",
    "    # Make predictions\n",
    "    y_pred = pipe.predict(X_test)\n",
    "\n",
    "    # Evaluate predictions\n",
    "    accuracy = accuracy_score(y_test, y_pred)\n",
    "    # Log the residuals plot\n",
    "\n",
    "    artifact_path = \"model\"\n",
    "\n",
    "    mlflow.sklearn.log_model(\n",
    "        sk_model=pipe,\n",
    "        artifact_path=artifact_path,\n",
    "        input_example=X_train.iloc[[0]],\n",
    "        metadata={\"model_data_version\": 1},\n",
    "    )\n",
    "\n",
    "    # Get the logged model uri so that we can load it from the artifact store\n",
    "    model_uri = mlflow.get_artifact_uri(artifact_path)\n"
   ]
  },
  {
   "cell_type": "code",
   "execution_count": null,
   "metadata": {},
   "outputs": [],
   "source": []
  }
 ],
 "metadata": {
  "kernelspec": {
   "display_name": "venv",
   "language": "python",
   "name": "python3"
  },
  "language_info": {
   "codemirror_mode": {
    "name": "ipython",
    "version": 3
   },
   "file_extension": ".py",
   "mimetype": "text/x-python",
   "name": "python",
   "nbconvert_exporter": "python",
   "pygments_lexer": "ipython3",
   "version": "3.12.1"
  }
 },
 "nbformat": 4,
 "nbformat_minor": 2
}
